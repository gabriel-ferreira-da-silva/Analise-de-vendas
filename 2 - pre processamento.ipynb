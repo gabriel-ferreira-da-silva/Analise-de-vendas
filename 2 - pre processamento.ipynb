{
 "cells": [
  {
   "cell_type": "code",
   "execution_count": 25,
   "id": "b2af4578",
   "metadata": {},
   "outputs": [],
   "source": [
    "import pandas as pd\n",
    "import numpy as np\n",
    "from datetime import datetime, timedelta\n",
    "import matplotlib.pyplot as plt\n",
    "import pandas as pd\n",
    "from sklearn.preprocessing import LabelEncoder\n",
    "from sklearn.preprocessing import OneHotEncoder\n",
    "\n"
   ]
  },
  {
   "cell_type": "code",
   "execution_count": 26,
   "id": "031b1776",
   "metadata": {},
   "outputs": [
    {
     "data": {
      "text/html": [
       "<div>\n",
       "<style scoped>\n",
       "    .dataframe tbody tr th:only-of-type {\n",
       "        vertical-align: middle;\n",
       "    }\n",
       "\n",
       "    .dataframe tbody tr th {\n",
       "        vertical-align: top;\n",
       "    }\n",
       "\n",
       "    .dataframe thead th {\n",
       "        text-align: right;\n",
       "    }\n",
       "</style>\n",
       "<table border=\"1\" class=\"dataframe\">\n",
       "  <thead>\n",
       "    <tr style=\"text-align: right;\">\n",
       "      <th></th>\n",
       "      <th>data</th>\n",
       "      <th>vendas</th>\n",
       "      <th>dia_da_semana</th>\n",
       "      <th>em_promocao</th>\n",
       "      <th>feriado_nacional</th>\n",
       "    </tr>\n",
       "  </thead>\n",
       "  <tbody>\n",
       "    <tr>\n",
       "      <th>0</th>\n",
       "      <td>2023-09-14</td>\n",
       "      <td>84.0</td>\n",
       "      <td>quinta-feira</td>\n",
       "      <td>False</td>\n",
       "      <td>False</td>\n",
       "    </tr>\n",
       "    <tr>\n",
       "      <th>1</th>\n",
       "      <td>2023-09-15</td>\n",
       "      <td>206.0</td>\n",
       "      <td>sexta-feira</td>\n",
       "      <td>True</td>\n",
       "      <td>False</td>\n",
       "    </tr>\n",
       "    <tr>\n",
       "      <th>2</th>\n",
       "      <td>2023-09-16</td>\n",
       "      <td>195.0</td>\n",
       "      <td>NaN</td>\n",
       "      <td>True</td>\n",
       "      <td>False</td>\n",
       "    </tr>\n",
       "    <tr>\n",
       "      <th>3</th>\n",
       "      <td>2023-09-17</td>\n",
       "      <td>279.0</td>\n",
       "      <td>domingo</td>\n",
       "      <td>False</td>\n",
       "      <td>False</td>\n",
       "    </tr>\n",
       "    <tr>\n",
       "      <th>4</th>\n",
       "      <td>2023-09-18</td>\n",
       "      <td>71.0</td>\n",
       "      <td>segunda-feira</td>\n",
       "      <td>False</td>\n",
       "      <td>False</td>\n",
       "    </tr>\n",
       "  </tbody>\n",
       "</table>\n",
       "</div>"
      ],
      "text/plain": [
       "         data  vendas  dia_da_semana em_promocao feriado_nacional\n",
       "0  2023-09-14    84.0   quinta-feira       False            False\n",
       "1  2023-09-15   206.0    sexta-feira        True            False\n",
       "2  2023-09-16   195.0            NaN        True            False\n",
       "3  2023-09-17   279.0        domingo       False            False\n",
       "4  2023-09-18    71.0  segunda-feira       False            False"
      ]
     },
     "execution_count": 26,
     "metadata": {},
     "output_type": "execute_result"
    }
   ],
   "source": [
    "df = pd.read_csv('vendas_produto_alfa.csv')\n",
    "\n",
    "df.head()"
   ]
  },
  {
   "cell_type": "code",
   "execution_count": 27,
   "id": "aff5d29f",
   "metadata": {},
   "outputs": [],
   "source": [
    "\n",
    "def eliminate_nulls(dfr):\n",
    "    dfr = dfr.dropna()\n",
    "    return dfr"
   ]
  },
  {
   "cell_type": "code",
   "execution_count": 28,
   "id": "d4602a04",
   "metadata": {},
   "outputs": [],
   "source": [
    "\n",
    "from json import encoder\n",
    "\n",
    "\n",
    "def apply_one_hot_encoding(df, column_name):\n",
    "    encoder = OneHotEncoder(\n",
    "        sparse_output=False,\n",
    "        drop=None,             \n",
    "        handle_unknown='ignore' \n",
    "    )\n",
    "\n",
    "    column_encoded = encoder.fit_transform(df[[column_name]])\n",
    "\n",
    "    encoded_df = pd.DataFrame(\n",
    "        column_encoded,\n",
    "        columns=encoder.get_feature_names_out([column_name])\n",
    "    )\n",
    "\n",
    "    df_final = pd.concat([df.drop(column_name, axis=1), encoded_df], axis=1)\n",
    "    print(\"Categorias encontradas:\", encoder.categories_)\n",
    "    return df_final \n",
    "\n",
    "\n",
    "def apply_label_encoding(df, column_name):\n",
    "    \n",
    "    encoder = LabelEncoder()\n",
    "    encoded_values = encoder.fit_transform(df[column_name])\n",
    "    df_final = df.copy()\n",
    "    df_final[column_name] = encoded_values\n",
    "    categories = encoder.classes_\n",
    "    encoding_map = {category: code for code, category in enumerate(categories)}\n",
    "    \n",
    "    print(f\"Coluna: {column_name}\")\n",
    "    print(f\"Categorias encontradas: {len(categories)}\")\n",
    "    print(\"Mapeamento:\")\n",
    "    for category, code in encoding_map.items():\n",
    "        print(f\"  {category} → {code}\")\n",
    "    \n",
    "    return df_final, encoder, encoding_map"
   ]
  },
  {
   "cell_type": "code",
   "execution_count": 29,
   "id": "3e344ce8",
   "metadata": {},
   "outputs": [],
   "source": [
    "def apply_mapping(df, coluna, mapping):\n",
    "    df[coluna] = df[coluna].map(mapping).fillna(df[coluna])\n",
    "    return df"
   ]
  },
  {
   "cell_type": "code",
   "execution_count": null,
   "id": "c73143f5",
   "metadata": {
    "vscode": {
     "languageId": "javascript"
    }
   },
   "outputs": [],
   "source": [
    "zomap = {\n",
    "    False:0,\n",
    "    True:1\n",
    "}"
   ]
  },
  {
   "cell_type": "code",
   "execution_count": 31,
   "id": "2b4db4fb",
   "metadata": {},
   "outputs": [
    {
     "name": "stdout",
     "output_type": "stream",
     "text": [
      "Categorias encontradas: [array(['domingo', 'quarta-feira', 'quinta-feira', 'sabado',\n",
      "       'segunda-feira', 'sexta-feira', 'terca-feira'], dtype=object)]\n"
     ]
    }
   ],
   "source": [
    "df = eliminate_nulls(df)\n",
    "df = apply_one_hot_encoding(df, 'dia_da_semana')\n",
    "df = apply_mapping(df, 'em_promocao', zomap)\n",
    "df = apply_mapping(df, 'feriado_nacional', zomap)\n"
   ]
  },
  {
   "cell_type": "code",
   "execution_count": 32,
   "id": "9a078475",
   "metadata": {},
   "outputs": [],
   "source": [
    "df.to_csv('vendas_produto_alfa_processadas.csv', index=False, encoding='utf-8')\n"
   ]
  }
 ],
 "metadata": {
  "kernelspec": {
   "display_name": "Python 3",
   "language": "python",
   "name": "python3"
  },
  "language_info": {
   "codemirror_mode": {
    "name": "ipython",
    "version": 3
   },
   "file_extension": ".py",
   "mimetype": "text/x-python",
   "name": "python",
   "nbconvert_exporter": "python",
   "pygments_lexer": "ipython3",
   "version": "3.10.12"
  }
 },
 "nbformat": 4,
 "nbformat_minor": 5
}
